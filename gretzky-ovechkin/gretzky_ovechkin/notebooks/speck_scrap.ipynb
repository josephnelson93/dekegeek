{
 "cells": [
  {
   "cell_type": "markdown",
   "metadata": {},
   "source": [
    "# Scrap Notebook\n",
    "\n",
    "Notebook for testing code and exploring data"
   ]
  },
  {
   "cell_type": "code",
   "execution_count": 2,
   "metadata": {},
   "outputs": [],
   "source": [
    "from requests import get"
   ]
  },
  {
   "cell_type": "code",
   "execution_count": 23,
   "metadata": {},
   "outputs": [],
   "source": [
    "url = \"https://statsapi.web.nhl.com/api/v1/\"\n",
    "\n",
    "params = {\n",
    "    \"expand\": \"team.roster\",\n",
    "    \"teamId\": 15\n",
    "}\n",
    "roster = get(url + \"teams/\", params)\n",
    "\n",
    "caps = roster.json()[\"teams\"][0][\"roster\"][\"roster\"]\n",
    "\n",
    "person_to_id = {i[\"person\"][\"fullName\"]:i[\"person\"][\"id\"] for i in caps}"
   ]
  },
  {
   "cell_type": "code",
   "execution_count": 27,
   "metadata": {},
   "outputs": [
    {
     "data": {
      "text/plain": [
       "{'Ilya Kovalchuk': 8469454,\n",
       " 'Alex Ovechkin': 8471214,\n",
       " 'T.J. Oshie': 8471698,\n",
       " 'Nicklas Backstrom': 8473563,\n",
       " 'Carl Hagelin': 8474176,\n",
       " 'Lars Eller': 8474189,\n",
       " 'John Carlson': 8474590,\n",
       " 'Braden Holtby': 8474651,\n",
       " 'Dmitry Orlov': 8475200,\n",
       " 'Richard Panik': 8475209,\n",
       " 'Nick Jensen': 8475324,\n",
       " 'Nic Dowd': 8475343,\n",
       " 'Brenden Dillon': 8475455,\n",
       " 'Radko Gudas': 8475462,\n",
       " 'Evgeny Kuznetsov': 8475744,\n",
       " 'Travis Boyd': 8476329,\n",
       " 'Tom Wilson': 8476880,\n",
       " 'Brendan Leipsic': 8476894,\n",
       " 'Garnet Hathaway': 8477903,\n",
       " 'Jakub Vrana': 8477944,\n",
       " 'Jonas Siegenthaler': 8478399,\n",
       " 'Ilya Samsonov': 8478492,\n",
       " 'Michal Kempny': 8479482}"
      ]
     },
     "execution_count": 27,
     "metadata": {},
     "output_type": "execute_result"
    }
   ],
   "source": [
    "person_to_id"
   ]
  },
  {
   "cell_type": "code",
   "execution_count": null,
   "metadata": {},
   "outputs": [],
   "source": []
  }
 ],
 "metadata": {
  "kernelspec": {
   "display_name": "Python 3.7",
   "language": "python",
   "name": "py37"
  },
  "language_info": {
   "codemirror_mode": {
    "name": "ipython",
    "version": 3
   },
   "file_extension": ".py",
   "mimetype": "text/x-python",
   "name": "python",
   "nbconvert_exporter": "python",
   "pygments_lexer": "ipython3",
   "version": "3.7.6"
  }
 },
 "nbformat": 4,
 "nbformat_minor": 4
}
